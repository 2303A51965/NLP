{
  "nbformat": 4,
  "nbformat_minor": 0,
  "metadata": {
    "colab": {
      "provenance": [],
      "authorship_tag": "ABX9TyNbgtHodnVsvaQCrOFaTnPJ",
      "include_colab_link": true
    },
    "kernelspec": {
      "name": "python3",
      "display_name": "Python 3"
    },
    "language_info": {
      "name": "python"
    }
  },
  "cells": [
    {
      "cell_type": "markdown",
      "metadata": {
        "id": "view-in-github",
        "colab_type": "text"
      },
      "source": [
        "<a href=\"https://colab.research.google.com/github/2303A51965/NLP/blob/main/lab_2.ipynb\" target=\"_parent\"><img src=\"https://colab.research.google.com/assets/colab-badge.svg\" alt=\"Open In Colab\"/></a>"
      ]
    },
    {
      "cell_type": "markdown",
      "source": [
        "# Task 1: Dataset Loading & Cleaning"
      ],
      "metadata": {
        "id": "sJb6T3LJ6Gia"
      }
    },
    {
      "cell_type": "code",
      "execution_count": null,
      "metadata": {
        "id": "yRzQtcGE2O2a"
      },
      "outputs": [],
      "source": [
        "import pandas as pd\n",
        "import spacy\n",
        "import re"
      ]
    },
    {
      "cell_type": "markdown",
      "source": [
        "# Load dataset"
      ],
      "metadata": {
        "id": "ae5llR3O6O3j"
      }
    },
    {
      "cell_type": "code",
      "source": [
        "df = pd.read_csv(\"StressLevelDataset.csv\")"
      ],
      "metadata": {
        "id": "XptXc1626MnI"
      },
      "execution_count": null,
      "outputs": []
    },
    {
      "cell_type": "markdown",
      "source": [
        "# Inspect structure"
      ],
      "metadata": {
        "id": "LLxvfzuj6oMH"
      }
    },
    {
      "cell_type": "code",
      "source": [
        "print(\"Dataset Shape:\", df.shape)\n",
        "print(df.info())"
      ],
      "metadata": {
        "colab": {
          "base_uri": "https://localhost:8080/"
        },
        "id": "lYDzr-Mp6pES",
        "outputId": "c62b6556-672a-4dfb-a823-11618630c381"
      },
      "execution_count": null,
      "outputs": [
        {
          "output_type": "stream",
          "name": "stdout",
          "text": [
            "Dataset Shape: (1100, 21)\n",
            "<class 'pandas.core.frame.DataFrame'>\n",
            "RangeIndex: 1100 entries, 0 to 1099\n",
            "Data columns (total 21 columns):\n",
            " #   Column                        Non-Null Count  Dtype\n",
            "---  ------                        --------------  -----\n",
            " 0   anxiety_level                 1100 non-null   int64\n",
            " 1   self_esteem                   1100 non-null   int64\n",
            " 2   mental_health_history         1100 non-null   int64\n",
            " 3   depression                    1100 non-null   int64\n",
            " 4   headache                      1100 non-null   int64\n",
            " 5   blood_pressure                1100 non-null   int64\n",
            " 6   sleep_quality                 1100 non-null   int64\n",
            " 7   breathing_problem             1100 non-null   int64\n",
            " 8   noise_level                   1100 non-null   int64\n",
            " 9   living_conditions             1100 non-null   int64\n",
            " 10  safety                        1100 non-null   int64\n",
            " 11  basic_needs                   1100 non-null   int64\n",
            " 12  academic_performance          1100 non-null   int64\n",
            " 13  study_load                    1100 non-null   int64\n",
            " 14  teacher_student_relationship  1100 non-null   int64\n",
            " 15  future_career_concerns        1100 non-null   int64\n",
            " 16  social_support                1100 non-null   int64\n",
            " 17  peer_pressure                 1100 non-null   int64\n",
            " 18  extracurricular_activities    1100 non-null   int64\n",
            " 19  bullying                      1100 non-null   int64\n",
            " 20  stress_level                  1100 non-null   int64\n",
            "dtypes: int64(21)\n",
            "memory usage: 180.6 KB\n",
            "None\n"
          ]
        }
      ]
    },
    {
      "cell_type": "markdown",
      "source": [
        "# Display first 5 text entries from \"text_1\""
      ],
      "metadata": {
        "id": "5WdbGN876zSb"
      }
    },
    {
      "cell_type": "code",
      "source": [
        "print(\"\\nFirst 5 entries from anxiety_level column:\")\n",
        "print(df['anxiety_level'].head())"
      ],
      "metadata": {
        "colab": {
          "base_uri": "https://localhost:8080/"
        },
        "id": "aPHwu2od62XD",
        "outputId": "6acc948a-4fb1-41b5-ec02-bd78f0aaea3c"
      },
      "execution_count": null,
      "outputs": [
        {
          "output_type": "stream",
          "name": "stdout",
          "text": [
            "\n",
            "First 5 entries from anxiety_level column:\n",
            "0    14\n",
            "1    15\n",
            "2    12\n",
            "3    16\n",
            "4    16\n",
            "Name: anxiety_level, dtype: int64\n"
          ]
        }
      ]
    },
    {
      "cell_type": "markdown",
      "source": [
        "# Clean null values if any"
      ],
      "metadata": {
        "id": "f4sSBopG8E27"
      }
    },
    {
      "cell_type": "code",
      "source": [
        "df = df.dropna(subset=['anxiety_level'])\n",
        "print(\"\\nAfter cleaning null values, new shape:\", df.shape)"
      ],
      "metadata": {
        "colab": {
          "base_uri": "https://localhost:8080/"
        },
        "id": "QwSY-sVV8Fn_",
        "outputId": "a6f97439-a2e6-47e9-ff5e-040a22da0ed8"
      },
      "execution_count": null,
      "outputs": [
        {
          "output_type": "stream",
          "name": "stdout",
          "text": [
            "\n",
            "After cleaning null values, new shape: (1100, 21)\n"
          ]
        }
      ]
    },
    {
      "cell_type": "markdown",
      "source": [
        "#task 2 POS Tagging with spaCy"
      ],
      "metadata": {
        "id": "Jl4zi1x68Pfb"
      }
    },
    {
      "cell_type": "markdown",
      "source": [
        "# Load English model"
      ],
      "metadata": {
        "id": "QIHso6M_8TFw"
      }
    },
    {
      "cell_type": "code",
      "source": [
        "nlp = spacy.load(\"en_core_web_sm\")"
      ],
      "metadata": {
        "id": "AL3U3MCy8T8S"
      },
      "execution_count": null,
      "outputs": []
    },
    {
      "cell_type": "markdown",
      "source": [
        "# Select first 5 sentences from anxiety_level"
      ],
      "metadata": {
        "id": "GbF7CHW_8bxX"
      }
    },
    {
      "cell_type": "code",
      "source": [
        "sample_texts = df['anxiety_level'].head(5)\n",
        "\n",
        "for i, sentence in enumerate('sample_texts', 1):\n",
        "    doc = nlp(sentence)\n",
        "\n",
        "     # Print POS tagging\n",
        "    for token in doc:\n",
        "        print(f\"{token.text:15} --> {token.pos_}\")\n",
        "\n",
        "        # Extract specific POS\n",
        "    nouns = [token.text for token in doc if token.pos_ == \"NOUN\"]\n",
        "    verbs = [token.text for token in doc if token.pos_ == \"VERB\"]\n",
        "    adjs  = [token.text for token in doc if token.pos_ == \"ADJ\"]\n",
        "\n",
        "    print(\"Nouns:\", nouns)\n",
        "    print(\"Verbs:\", verbs)\n",
        "    print(\"Adjectives:\", adjs)"
      ],
      "metadata": {
        "colab": {
          "base_uri": "https://localhost:8080/"
        },
        "id": "8Vu_8DSH8k7Y",
        "outputId": "461262be-6239-4d80-9fd7-6dab3c4f7fe2"
      },
      "execution_count": null,
      "outputs": [
        {
          "output_type": "stream",
          "name": "stdout",
          "text": [
            "s               --> X\n",
            "Nouns: []\n",
            "Verbs: []\n",
            "Adjectives: []\n",
            "a               --> PRON\n",
            "Nouns: []\n",
            "Verbs: []\n",
            "Adjectives: []\n",
            "m               --> VERB\n",
            "Nouns: []\n",
            "Verbs: ['m']\n",
            "Adjectives: []\n",
            "p               --> X\n",
            "Nouns: []\n",
            "Verbs: []\n",
            "Adjectives: []\n",
            "l               --> NOUN\n",
            "Nouns: ['l']\n",
            "Verbs: []\n",
            "Adjectives: []\n",
            "e               --> X\n",
            "Nouns: []\n",
            "Verbs: []\n",
            "Adjectives: []\n",
            "_               --> PUNCT\n",
            "Nouns: []\n",
            "Verbs: []\n",
            "Adjectives: []\n",
            "t               --> PROPN\n",
            "Nouns: []\n",
            "Verbs: []\n",
            "Adjectives: []\n",
            "e               --> X\n",
            "Nouns: []\n",
            "Verbs: []\n",
            "Adjectives: []\n",
            "x               --> X\n",
            "Nouns: []\n",
            "Verbs: []\n",
            "Adjectives: []\n",
            "t               --> PROPN\n",
            "Nouns: []\n",
            "Verbs: []\n",
            "Adjectives: []\n",
            "s               --> X\n",
            "Nouns: []\n",
            "Verbs: []\n",
            "Adjectives: []\n"
          ]
        }
      ]
    },
    {
      "cell_type": "markdown",
      "source": [
        "Q2: Regex Cleaning"
      ],
      "metadata": {
        "id": "xqdVGUvN9nTc"
      }
    },
    {
      "cell_type": "code",
      "source": [
        "texts = [\n",
        "    \"My phone number is 1234567890 and my email is test@domain.com\",\n",
        "    \"Visit https://example.com for more info!!!\",\n",
        "    \"HELLO!!! This is SOOOOO exciting :))\",\n",
        "    \"Contact us at info@company.org or call +91 98765-43210\",\n",
        "    \"Python's regex is very useful!!!  #Coding #Fun\"\n",
        "]"
      ],
      "metadata": {
        "id": "UPpjlj308vcs"
      },
      "execution_count": null,
      "outputs": []
    },
    {
      "cell_type": "code",
      "source": [
        "def clean_text(text):\n",
        "    # Remove phone numbers\n",
        "    text = re.sub(r'\\+?\\d[\\d\\s\\-\\(\\)]{8,}\\d', '', text)\n",
        "    # Remove emails\n",
        "    text = re.sub(r'\\S+@\\S+', '', text)\n",
        "    # Remove URLs\n",
        "    text = re.sub(r'http\\S+|www\\.\\S+', '', text)\n",
        "    # Remove special characters (keep alphanumeric & spaces)\n",
        "    text = re.sub(r'[^A-Za-z0-9\\s]', '', text)\n",
        "    # Remove extra spaces\n",
        "    text = re.sub(r'\\s+', ' ', text).strip()\n",
        "    return text"
      ],
      "metadata": {
        "id": "OOE39sj79xQv"
      },
      "execution_count": null,
      "outputs": []
    },
    {
      "cell_type": "code",
      "source": [
        "print(\"\\n=== Cleaning Q2 Texts ===\")\n",
        "for t in texts:\n",
        "    print(\"Original:\", t)\n",
        "    print(\"Cleaned :\", clean_text(t))\n",
        "    print(\"-\" * 40)"
      ],
      "metadata": {
        "colab": {
          "base_uri": "https://localhost:8080/"
        },
        "id": "UZDTbzC7904z",
        "outputId": "a81a8489-2531-4601-902c-282c2b12dd53"
      },
      "execution_count": null,
      "outputs": [
        {
          "output_type": "stream",
          "name": "stdout",
          "text": [
            "\n",
            "=== Cleaning Q2 Texts ===\n",
            "Original: My phone number is 1234567890 and my email is test@domain.com\n",
            "Cleaned : My phone number is and my email is\n",
            "----------------------------------------\n",
            "Original: Visit https://example.com for more info!!!\n",
            "Cleaned : Visit for more info\n",
            "----------------------------------------\n",
            "Original: HELLO!!! This is SOOOOO exciting :))\n",
            "Cleaned : HELLO This is SOOOOO exciting\n",
            "----------------------------------------\n",
            "Original: Contact us at info@company.org or call +91 98765-43210\n",
            "Cleaned : Contact us at or call\n",
            "----------------------------------------\n",
            "Original: Python's regex is very useful!!!  #Coding #Fun\n",
            "Cleaned : Pythons regex is very useful Coding Fun\n",
            "----------------------------------------\n"
          ]
        }
      ]
    }
  ]
}