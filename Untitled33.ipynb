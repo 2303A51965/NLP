{
  "nbformat": 4,
  "nbformat_minor": 0,
  "metadata": {
    "colab": {
      "provenance": [],
      "authorship_tag": "ABX9TyPu9e7X7Nxn/2X3ibjsYyoU",
      "include_colab_link": true
    },
    "kernelspec": {
      "name": "python3",
      "display_name": "Python 3"
    },
    "language_info": {
      "name": "python"
    }
  },
  "cells": [
    {
      "cell_type": "markdown",
      "metadata": {
        "id": "view-in-github",
        "colab_type": "text"
      },
      "source": [
        "<a href=\"https://colab.research.google.com/github/2303A51965/NLP/blob/main/Untitled33.ipynb\" target=\"_parent\"><img src=\"https://colab.research.google.com/assets/colab-badge.svg\" alt=\"Open In Colab\"/></a>"
      ]
    },
    {
      "cell_type": "markdown",
      "source": [
        "Tokenization"
      ],
      "metadata": {
        "id": "HexgMcDk26iU"
      }
    },
    {
      "cell_type": "code",
      "source": [
        "import nltk\n",
        "nltk.download('punkt_tab')\n",
        "from nltk.tokenize import word_tokenize\n",
        "sentance=\"I just had my breakfast.\"\n",
        "\n",
        "tokens=word_tokenize(sentance)\n",
        "print(\"Tokens\",tokens)"
      ],
      "metadata": {
        "colab": {
          "base_uri": "https://localhost:8080/"
        },
        "id": "0AhMDJrz-arr",
        "outputId": "a52f9d59-7b7e-4a57-952c-fcf239055c58"
      },
      "execution_count": 11,
      "outputs": [
        {
          "output_type": "stream",
          "name": "stdout",
          "text": [
            "Tokens ['I', 'just', 'had', 'my', 'breakfast', '.']\n"
          ]
        },
        {
          "output_type": "stream",
          "name": "stderr",
          "text": [
            "[nltk_data] Downloading package punkt_tab to /root/nltk_data...\n",
            "[nltk_data]   Package punkt_tab is already up-to-date!\n"
          ]
        }
      ]
    },
    {
      "cell_type": "code",
      "execution_count": null,
      "metadata": {
        "colab": {
          "base_uri": "https://localhost:8080/"
        },
        "id": "aNMUoSpW1_P1",
        "outputId": "0467d536-2c29-46dc-fd00-c20ce83a1972"
      },
      "outputs": [
        {
          "output_type": "stream",
          "name": "stdout",
          "text": [
            "tokens: ['I', 'just', 'had', 'my', 'breakfast', '.']\n",
            "Filtered Tokens: ['breakfast', '.']\n"
          ]
        },
        {
          "output_type": "stream",
          "name": "stderr",
          "text": [
            "[nltk_data] Downloading package punkt_tab to /root/nltk_data...\n",
            "[nltk_data]   Package punkt_tab is already up-to-date!\n",
            "[nltk_data] Downloading package stopwords to /root/nltk_data...\n",
            "[nltk_data]   Unzipping corpora/stopwords.zip.\n"
          ]
        }
      ],
      "source": [
        "import nltk\n",
        "nltk.download('punkt_tab')\n",
        "from nltk.tokenize import word_tokenize\n",
        "from nltk.corpus import stopwords\n",
        "nltk.download('stopwords')\n",
        "\n",
        "sentance=\"I just had my breakfast.\"\n",
        "\n",
        "tokens=word_tokenize(sentance)\n",
        "print(\"tokens:\",tokens)\n",
        "stop_words=set(stopwords.words('english'))\n",
        "filtered_tokens=[word for word in tokens if word.lower()not in stop_words]\n",
        "print(\"Filtered Tokens:\",filtered_tokens)"
      ]
    },
    {
      "cell_type": "code",
      "source": [
        "import nltk\n",
        "from nltk.tokenize import word_tokenize\n",
        "from nltk.stem import PorterStemmer\n",
        "nltk.download('wordnet')\n",
        "\n",
        "sentance='I just had my breakfast.'\n",
        "\n",
        "tokens=word_tokenize(sentance)\n",
        "print(tokens)\n",
        "\n",
        "stemmer=PorterStemmer()\n",
        "stemmer_tokens=[stemmer.stem(word)for word in tokens]\n",
        "print(stemmer_tokens)"
      ],
      "metadata": {
        "id": "NWj-YITS6Nx0"
      },
      "execution_count": null,
      "outputs": []
    },
    {
      "cell_type": "code",
      "source": [
        "import nltk\n",
        "from nltk.tokenize import word_tokenize\n",
        "from nltk.stem import WordNetLemmatizer\n",
        "nltk.download('wordnet')\n",
        "\n",
        "sentance='I just had my breakfast.'\n",
        "\n",
        "tokens=word_tokenize(sentance)\n",
        "print(\"Tokens is:\",tokens)\n",
        "\n",
        "Lemmatizer=WordNetLemmatizer()\n",
        "L_Tokens=[Lemmatizer.lemmatize(word)for word in tokens]\n",
        "print(\"Lemmaword is:\",L_Tokens)"
      ],
      "metadata": {
        "colab": {
          "base_uri": "https://localhost:8080/"
        },
        "id": "1Rzv6uJA8fdG",
        "outputId": "f22d6c7f-c7e5-4fa1-b168-26029aaaebce"
      },
      "execution_count": 9,
      "outputs": [
        {
          "output_type": "stream",
          "name": "stderr",
          "text": [
            "[nltk_data] Downloading package wordnet to /root/nltk_data...\n",
            "[nltk_data]   Package wordnet is already up-to-date!\n"
          ]
        },
        {
          "output_type": "stream",
          "name": "stdout",
          "text": [
            "Tokens is: ['I', 'just', 'had', 'my', 'breakfast', '.']\n",
            "Lemmaword is: ['I', 'just', 'had', 'my', 'breakfast', '.']\n"
          ]
        }
      ]
    }
  ]
}